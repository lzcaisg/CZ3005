{
 "cells": [
  {
   "cell_type": "code",
   "execution_count": 1,
   "metadata": {},
   "outputs": [],
   "source": [
    "import csv"
   ]
  },
  {
   "cell_type": "code",
   "execution_count": 10,
   "metadata": {},
   "outputs": [
    {
     "name": "stdout",
     "output_type": "stream",
     "text": [
      "[['\\ufeffNo.', 'Athlete', 'Nation', 'Sport', 'Start Year', 'End Year', 'Games', 'Gender', 'Gold', 'Silver', 'Bronze', 'Total'], ['1', 'Michael Phelps', 'United States', 'Swimming', '2004', '2016', 'Summer', 'M', '23', '3', '2', '28'], ['2', 'Larisa Latynina', 'Soviet Union', 'Gymnastics', '1956', '1964', 'Summer', 'F', '9', '5', '4', '18'], ['3', 'Marit Bjørgen', 'Norway', 'Cross-country skiing', '2002', '2018', 'Winter', 'F', '8', '4', '3', '15'], ['4', 'Nikolai Andrianov', 'Soviet Union', 'Gymnastics', '1972', '1980', 'Summer', 'M', '7', '5', '3', '15'], ['5', 'Ole Einar Bjørndalen', 'Norway', 'Biathlon', '1998', '2014', 'Winter', 'M', '8', '4', '1', '13'], ['6', 'Boris Shakhlin', 'Soviet Union', 'Gymnastics', '1956', '1964', 'Summer', 'M', '7', '4', '2', '13'], ['7', 'Edoardo Mangiarotti', 'Italy', 'Fencing', '1936', '1960', 'Summer', 'M', '6', '5', '2', '13'], ['8', 'Takashi Ono', 'Japan', 'Gymnastics', '1952', '1964', 'Summer', 'M', '5', '4', '4', '13'], ['9', 'Paavo Nurmi', 'Finland', 'Athletics', '1920', '1928', 'Summer', 'M', '9', '3', '0', '12'], ['10', 'Birgit Fischer', 'Germany', 'Canoeing', '1980', '2004', 'Summer', 'F', '8', '4', '0', '12'], ['11', 'Bjørn Dæhlie', 'Norway', 'Cross-country skiing', '1992', '1998', 'Winter', 'M', '8', '4', '0', '12'], ['12', 'Sawao Kato', 'Japan', 'Gymnastics', '1968', '1976', 'Summer', 'M', '8', '3', '1', '12'], ['13', 'Jenny Thompson', 'United States', 'Swimming', '1992', '2004', 'Summer', 'F', '8', '3', '1', '12'], ['14', 'Ryan Lochte', 'United States', 'Swimming', '2004', '2016', 'Summer', 'M', '6', '3', '3', '12'], ['15', 'Dara Torres', 'United States', 'Swimming', '1984', '2008', 'Summer', 'F', '4', '4', '4', '12'], ['16', 'Alexei Nemov', 'Russia', 'Gymnastics', '1996', '2000', 'Summer', 'M', '4', '2', '6', '12'], ['17', 'Natalie Coughlin', 'United States', 'Swimming', '2004', '2012', 'Summer', 'F', '3', '4', '5', '12'], ['18', 'Mark Spitz', 'United States', 'Swimming', '1968', '1972', 'Summer', 'M', '9', '1', '1', '11'], ['19', 'Matt Biondi', 'United States', 'Swimming', '1984', '1992', 'Summer', 'M', '8', '2', '1', '11'], ['20', 'Věra Čáslavská', 'Czechoslovakia', 'Gymnastics', '1960', '1968', 'Summer', 'F', '7', '4', '0', '11']]\n"
     ]
    }
   ],
   "source": [
    "with open(\"Olympics.csv\",\"r\") as f:\n",
    "    reader = csv.reader(f)\n",
    "    result=list(reader)\n",
    "print(result)"
   ]
  },
  {
   "cell_type": "code",
   "execution_count": 14,
   "metadata": {},
   "outputs": [],
   "source": [
    "result[0][0]=result[0][0].replace(u'\\ufeff','')"
   ]
  },
  {
   "cell_type": "code",
   "execution_count": 15,
   "metadata": {},
   "outputs": [
    {
     "data": {
      "text/plain": [
       "'No.'"
      ]
     },
     "execution_count": 15,
     "metadata": {},
     "output_type": "execute_result"
    }
   ],
   "source": [
    "result[0][0]"
   ]
  },
  {
   "cell_type": "code",
   "execution_count": 20,
   "metadata": {},
   "outputs": [],
   "source": [
    "rank = [tmp[0] for tmp in result[1:]]\n",
    "name = [tmp[1] for tmp in result[1:]]\n",
    "nation = [tmp[2] for tmp in result[1:]]\n",
    "sport = [tmp[3] for tmp in result[1:]]\n",
    "start_year = [tmp[4] for tmp in result[1:]]\n",
    "end_year = [tmp[5] for tmp in result[1:]]\n",
    "season = [tmp[6] for tmp in result[1:]]\n",
    "gender = [tmp[7] for tmp in result[1:]]\n",
    "gold_no = [tmp[8] for tmp in result[1:]]\n",
    "silver_no = [tmp[9] for tmp in result[1:]]\n",
    "bronze_no = [tmp[10] for tmp in result[1:]]\n",
    "total_no = [tmp[11] for tmp in result[1:]]\n"
   ]
  },
  {
   "cell_type": "code",
   "execution_count": 24,
   "metadata": {},
   "outputs": [],
   "source": [
    "for i in range(len(name)):\n",
    "    name[i]=name[i].replace(\" \",\"_\")"
   ]
  },
  {
   "cell_type": "code",
   "execution_count": 25,
   "metadata": {},
   "outputs": [],
   "source": [
    "Result = []"
   ]
  },
  {
   "cell_type": "code",
   "execution_count": 26,
   "metadata": {},
   "outputs": [],
   "source": [
    "for i,tmpname in enumerate(name):\n",
    "    command=\"rank(\"+tmpname+', '+rank[i]+\").\"\n",
    "    Result.append(command)"
   ]
  },
  {
   "cell_type": "code",
   "execution_count": null,
   "metadata": {},
   "outputs": [],
   "source": []
  },
  {
   "cell_type": "code",
   "execution_count": 27,
   "metadata": {},
   "outputs": [
    {
     "data": {
      "text/plain": [
       "['rank(Michael_Phelps, 1).',\n",
       " 'rank(Larisa_Latynina, 2).',\n",
       " 'rank(Marit_Bjørgen, 3).',\n",
       " 'rank(Nikolai_Andrianov, 4).',\n",
       " 'rank(Ole_Einar_Bjørndalen, 5).',\n",
       " 'rank(Boris_Shakhlin, 6).',\n",
       " 'rank(Edoardo_Mangiarotti, 7).',\n",
       " 'rank(Takashi_Ono, 8).',\n",
       " 'rank(Paavo_Nurmi, 9).',\n",
       " 'rank(Birgit_Fischer, 10).',\n",
       " 'rank(Bjørn_Dæhlie, 11).',\n",
       " 'rank(Sawao_Kato, 12).',\n",
       " 'rank(Jenny_Thompson, 13).',\n",
       " 'rank(Ryan_Lochte, 14).',\n",
       " 'rank(Dara_Torres, 15).',\n",
       " 'rank(Alexei_Nemov, 16).',\n",
       " 'rank(Natalie_Coughlin, 17).',\n",
       " 'rank(Mark_Spitz, 18).',\n",
       " 'rank(Matt_Biondi, 19).',\n",
       " 'rank(Věra_Čáslavská, 20).']"
      ]
     },
     "execution_count": 27,
     "metadata": {},
     "output_type": "execute_result"
    }
   ],
   "source": [
    "Result"
   ]
  }
 ],
 "metadata": {
  "kernelspec": {
   "display_name": "Python 3",
   "language": "python",
   "name": "python3"
  },
  "language_info": {
   "codemirror_mode": {
    "name": "ipython",
    "version": 3
   },
   "file_extension": ".py",
   "mimetype": "text/x-python",
   "name": "python",
   "nbconvert_exporter": "python",
   "pygments_lexer": "ipython3",
   "version": "3.6.5"
  }
 },
 "nbformat": 4,
 "nbformat_minor": 2
}
